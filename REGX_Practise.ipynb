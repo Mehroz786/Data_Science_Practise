{
 "cells": [
  {
   "cell_type": "markdown",
   "metadata": {},
   "source": [
    "Regular Expression Practise"
   ]
  },
  {
   "cell_type": "code",
   "execution_count": 4,
   "metadata": {},
   "outputs": [],
   "source": [
    "# regular expression in python is re\n",
    "import re"
   ]
  },
  {
   "cell_type": "markdown",
   "metadata": {},
   "source": [
    "Another Example"
   ]
  },
  {
   "cell_type": "code",
   "execution_count": 5,
   "metadata": {},
   "outputs": [
    {
     "name": "stdout",
     "output_type": "stream",
     "text": [
      "\tTab\n",
      "\\tTAb\n"
     ]
    }
   ],
   "source": [
    "text = \"\"\"abcdefghijklmnopqrstuvwxyz\n",
    "ABCDEFGHIKLMNOPQRSTUVWXYZ \n",
    "123456789\n",
    "\n",
    "coreyms.com \n",
    "\n",
    "Ha HaHa\n",
    "321-555-4321\n",
    "123.555.1234\n",
    "123*555*1234\n",
    "061-622-0235\n",
    "045-160-8489\n",
    "\n",
    "Mr. Schafer\n",
    "Mr Smith\n",
    "Ms Davis\n",
    "Mrs.Robinson\n",
    "Mr. Mehroz\n",
    "Mr. T\n",
    "\n",
    "cat \n",
    "mat \n",
    "pat \n",
    "bat\n",
    " \n",
    "\"\"\"\n",
    "sentence = \"Start a sentence and then bring it to an end\"\n",
    "\n",
    "# if we put an \"r\" before any string it will exclude any backsplash caracters\n",
    "\n",
    "print(\"\\tTab\") # it will print tab with an tab\n",
    "print(r\"\\tTAb\")  # r means raw string "
   ]
  },
  {
   "cell_type": "code",
   "execution_count": 7,
   "metadata": {},
   "outputs": [
    {
     "name": "stdout",
     "output_type": "stream",
     "text": [
      "<re.Match object; span=(0, 26), match='abcdefghijklmnopqrstuvwxyz'>\n",
      "<re.Match object; span=(26, 26), match=''>\n",
      "<re.Match object; span=(27, 53), match='ABCDEFGHIKLMNOPQRSTUVWXYZ '>\n",
      "<re.Match object; span=(53, 53), match=''>\n",
      "<re.Match object; span=(54, 63), match='123456789'>\n",
      "<re.Match object; span=(63, 63), match=''>\n",
      "<re.Match object; span=(64, 64), match=''>\n",
      "<re.Match object; span=(65, 77), match='coreyms.com '>\n",
      "<re.Match object; span=(77, 77), match=''>\n",
      "<re.Match object; span=(78, 78), match=''>\n",
      "<re.Match object; span=(79, 86), match='Ha HaHa'>\n",
      "<re.Match object; span=(86, 86), match=''>\n",
      "<re.Match object; span=(87, 99), match='321-555-4321'>\n",
      "<re.Match object; span=(99, 99), match=''>\n",
      "<re.Match object; span=(100, 112), match='123.555.1234'>\n",
      "<re.Match object; span=(112, 112), match=''>\n",
      "<re.Match object; span=(113, 125), match='123*555*1234'>\n",
      "<re.Match object; span=(125, 125), match=''>\n",
      "<re.Match object; span=(126, 138), match='061-622-0235'>\n",
      "<re.Match object; span=(138, 138), match=''>\n",
      "<re.Match object; span=(139, 151), match='045-160-8489'>\n",
      "<re.Match object; span=(151, 151), match=''>\n",
      "<re.Match object; span=(152, 152), match=''>\n",
      "<re.Match object; span=(153, 164), match='Mr. Schafer'>\n",
      "<re.Match object; span=(164, 164), match=''>\n",
      "<re.Match object; span=(165, 173), match='Mr Smith'>\n",
      "<re.Match object; span=(173, 173), match=''>\n",
      "<re.Match object; span=(174, 182), match='Ms Davis'>\n",
      "<re.Match object; span=(182, 182), match=''>\n",
      "<re.Match object; span=(183, 195), match='Mrs.Robinson'>\n",
      "<re.Match object; span=(195, 195), match=''>\n",
      "<re.Match object; span=(196, 206), match='Mr. Mehroz'>\n",
      "<re.Match object; span=(206, 206), match=''>\n",
      "<re.Match object; span=(207, 212), match='Mr. T'>\n",
      "<re.Match object; span=(212, 212), match=''>\n",
      "<re.Match object; span=(213, 213), match=''>\n",
      "<re.Match object; span=(214, 218), match='cat '>\n",
      "<re.Match object; span=(218, 218), match=''>\n",
      "<re.Match object; span=(219, 223), match='mat '>\n",
      "<re.Match object; span=(223, 223), match=''>\n",
      "<re.Match object; span=(224, 228), match='pat '>\n",
      "<re.Match object; span=(228, 228), match=''>\n",
      "<re.Match object; span=(229, 232), match='bat'>\n",
      "<re.Match object; span=(232, 232), match=''>\n",
      "<re.Match object; span=(233, 234), match=' '>\n",
      "<re.Match object; span=(234, 234), match=''>\n",
      "<re.Match object; span=(235, 235), match=''>\n"
     ]
    }
   ],
   "source": [
    "whole_text = re.compile(r\".*\")\n",
    "m = whole_text.finditer(text)\n",
    "for i in m:\n",
    "    print(i)"
   ]
  },
  {
   "cell_type": "markdown",
   "metadata": {},
   "source": [
    "We use re.compile method \n",
    "this method will help us to make an pattren which we can use latter for searches"
   ]
  },
  {
   "cell_type": "code",
   "execution_count": 51,
   "metadata": {},
   "outputs": [
    {
     "name": "stdout",
     "output_type": "stream",
     "text": [
      "<re.Match object; span=(0, 3), match='abc'>\n"
     ]
    }
   ],
   "source": [
    "pattren = re.compile(r'abc')\n",
    "match =pattren.finditer(text)\n",
    "for m in match:\n",
    "    print(m)"
   ]
  },
  {
   "cell_type": "markdown",
   "metadata": {},
   "source": [
    "to reomove any cahrater we use \\ for example \\. means that it will reove ."
   ]
  },
  {
   "cell_type": "code",
   "execution_count": 61,
   "metadata": {},
   "outputs": [
    {
     "name": "stdout",
     "output_type": "stream",
     "text": [
      "<re.Match object; span=(65, 76), match='coreyms.com'>\n"
     ]
    }
   ],
   "source": [
    "# findind the url coreyms.com\n",
    "pattren = re.compile(r'coreyms\\.com')\n",
    "match =pattren.finditer(text)\n",
    "for m in match:\n",
    "    print(m)"
   ]
  },
  {
   "cell_type": "markdown",
   "metadata": {},
   "source": [
    ". -> any character except new line <br>\n",
    "\\d -> Digit(0-9)<br>\n",
    "\\D -> not a digit(0-9)<br>\n",
    "\\w -> word characters (a-z ,A-Z , 0-9 )<br>\n",
    "\\W -> not a word character<br>\n",
    "\\s -> white space (space ,tab ,new line)<br>\n",
    "\\S -> not a space (space , tab ,new line) <Br>\n",
    "\n",
    "now anchors \n",
    "\\b -> word boundary (word boundary indicates by white space) <br>\n",
    "\\B -> march word which do not have word boundary <br>\n",
    "^ -> the beginning of the string ,but if it is the brackets like [^\n",
    "4 - 6] then it means not<br>\n",
    "$ -> end of a string\n"
   ]
  },
  {
   "cell_type": "code",
   "execution_count": 76,
   "metadata": {},
   "outputs": [
    {
     "name": "stdout",
     "output_type": "stream",
     "text": [
      "<re.Match object; span=(84, 86), match='Ha'>\n"
     ]
    }
   ],
   "source": [
    "pattren = re.compile(r'\\BHa') # we have written Ha HaHa now it just print the last Ha as it does not have word boundary before it\n",
    "match =pattren.finditer(text)\n",
    "for m in match:\n",
    "    print(m)"
   ]
  },
  {
   "cell_type": "code",
   "execution_count": 85,
   "metadata": {},
   "outputs": [
    {
     "name": "stdout",
     "output_type": "stream",
     "text": [
      "<re.Match object; span=(0, 5), match='Start'>\n",
      "<re.Match object; span=(41, 44), match='end'>\n"
     ]
    }
   ],
   "source": [
    "# using ^ sign  \n",
    "pattren = re.compile(r'^Start') # now it \n",
    "#will search for the littreal word at the start of the string\n",
    "# if the same word is not present at the start of the string it will return nothing\n",
    "match =pattren.finditer(sentence)\n",
    "for m in match:\n",
    "    print(m)\n",
    "\n",
    "\n",
    "\n",
    "# using $ sign  \n",
    "pattren = re.compile(r'end$') # now it \n",
    "#will search for the littreal word at the end  of the string\n",
    "# if the same word is not present at the end of the string it will return nothing\n",
    "match =pattren.finditer(sentence)\n",
    "for m in match:\n",
    "    print(m)"
   ]
  },
  {
   "cell_type": "markdown",
   "metadata": {},
   "source": [
    "now we want to match phone numbers\n",
    "<br> as we have different pattrens of phone number so we can't use litteral word <br> we use meta characters"
   ]
  },
  {
   "cell_type": "code",
   "execution_count": 89,
   "metadata": {},
   "outputs": [
    {
     "name": "stdout",
     "output_type": "stream",
     "text": [
      "<re.Match object; span=(87, 99), match='321-555-4321'>\n",
      "<re.Match object; span=(100, 112), match='123.555.1234'>\n"
     ]
    }
   ],
   "source": [
    "#as the pattern of ph number is 123.551.222 and 123-156-156\n",
    "pattren = re.compile(r'\\d\\d\\d.\\d\\d\\d.\\d\\d\\d\\d') # \\d\\d\\d means that 3 digit combinations and . sign means any character \n",
    "match =pattren.finditer(text)\n",
    "for m in match:\n",
    "    print(m)"
   ]
  },
  {
   "cell_type": "code",
   "execution_count": 108,
   "metadata": {},
   "outputs": [
    {
     "name": "stdout",
     "output_type": "stream",
     "text": [
      "<re.Match object; span=(126, 138), match='061-622-0235'>\n",
      "<re.Match object; span=(139, 151), match='045-160-8489'>\n"
     ]
    }
   ],
   "source": [
    "# if you need to find some specific number \n",
    "pattren = re.compile(r'[0][64][15].\\d\\d\\d.\\d\\d\\d\\d') # \\d\\d\\d means that 3 digit combinations and . sign means any character \n",
    "match =pattren.finditer(text)\n",
    "for m in match:\n",
    "    print(m)\n"
   ]
  },
  {
   "cell_type": "code",
   "execution_count": 136,
   "metadata": {},
   "outputs": [
    {
     "name": "stdout",
     "output_type": "stream",
     "text": [
      "<re.Match object; span=(187, 190), match='cat'>\n",
      "<re.Match object; span=(192, 195), match='mat'>\n",
      "<re.Match object; span=(197, 200), match='pat'>\n"
     ]
    }
   ],
   "source": [
    "# if we have ^ sign inside the character set then it means not \n",
    "pattren = re.compile(r'[^b]at')  # this is print all the words having at in the end but not having b at\n",
    "match =pattren.finditer(text)\n",
    "for m in match:\n",
    "    print(m)\n"
   ]
  },
  {
   "cell_type": "markdown",
   "metadata": {},
   "source": [
    "Now using a file name Data.txt for checking validity of data \n",
    "<Br> we are actually checking the valid phone number from the file"
   ]
  },
  {
   "cell_type": "code",
   "execution_count": 110,
   "metadata": {},
   "outputs": [
    {
     "name": "stdout",
     "output_type": "stream",
     "text": [
      "Valid_phone numbers are\n",
      " ['800-555-5669', '900-555-9340', '800-555-6771', '900-555-3205', '800-555-6089', '800-555-7100', '900-555-5118', '900-555-5428', '800-555-8810', '900-555-9598', '800-555-2420', '900-555-3567', '800-555-3216', '900-555-7755', '800-555-1372', '900-555-6426']\n"
     ]
    }
   ],
   "source": [
    "with open(\"data.txt\",'r') as f:\n",
    "    content = f.read()\n",
    "    pattren = re.compile(r'[89]00.\\d\\d\\d.\\d\\d\\d\\d') # but if we want some specific characters we can use [-.]\n",
    "    match =pattren.findall(content)\n",
    "    valid_phone = []\n",
    "    for m in match:\n",
    "        valid_phone.append(m)\n",
    "    print(\"Valid_phone numbers are\\n\",valid_phone)\n",
    "    "
   ]
  },
  {
   "cell_type": "markdown",
   "metadata": {},
   "source": [
    "CNICN Validation"
   ]
  },
  {
   "cell_type": "code",
   "execution_count": 102,
   "metadata": {},
   "outputs": [
    {
     "name": "stdout",
     "output_type": "stream",
     "text": [
      "OK\n"
     ]
    }
   ],
   "source": [
    "#36302-1710958-5\n",
    "cnic = input(\"Please Enter your CNINC: \")\n",
    "cnin_reg = r\"\\d\\d\\d\\d\\d[-]\\d\\d\\d\\d\\d\\d\\d[-]\\d\"\n",
    "if(re.match(cnin_reg,cnic)):\n",
    "    print(\"OK\")\n",
    "else:\n",
    "    print(\"Not OK\")"
   ]
  },
  {
   "cell_type": "markdown",
   "metadata": {},
   "source": [
    "Quantifiers"
   ]
  },
  {
   "cell_type": "markdown",
   "metadata": {},
   "source": [
    "To matach muliple charactesrs at one time <br>\n",
    "as we have been doing character by character but now we will do it in one time\n",
    "<br>\n",
    "* \"*\" -> 0 or More<br>\n",
    "* \"+\" -> 1  or more<br>\n",
    "* ? -> 0  or one <br>\n",
    "* {3} -> exact number like 3 time <br>\n",
    "* {3 , 4 }-> rnage of numbers {minimum ,maximum}"
   ]
  },
  {
   "cell_type": "code",
   "execution_count": 172,
   "metadata": {},
   "outputs": [
    {
     "name": "stdout",
     "output_type": "stream",
     "text": [
      "The output is same as of single characters\n",
      "\n",
      "<re.Match object; span=(87, 99), match='321-555-4321'>\n",
      "<re.Match object; span=(100, 112), match='123.555.1234'>\n",
      "<re.Match object; span=(113, 125), match='123*555*1234'>\n",
      "<re.Match object; span=(126, 138), match='061-622-0235'>\n",
      "<re.Match object; span=(139, 151), match='045-160-8489'>\n"
     ]
    }
   ],
   "source": [
    "# now we will use quanitifer for getting the numbers\n",
    "pattren = re.compile(r'\\d{3}.\\d{3}.\\d{4}') # means that the number has 3 digits \\d{3} means 3 digits \n",
    "match =pattren.finditer(text)\n",
    "print(\"The output is same as of single characters\\n\")\n",
    "for m in match:\n",
    "    print(m)"
   ]
  },
  {
   "cell_type": "code",
   "execution_count": null,
   "metadata": {},
   "outputs": [],
   "source": [
    "pattren = re.compile(r'\\d{3}.\\d{3}.\\d{4}') # means that the number has 3 digits \\d{3} means 3 digits \n",
    "match =pattren.finditer(text)\n",
    "print(\"The output is same as of single characters\\n\")\n",
    "for m in match:\n",
    "    print(m)"
   ]
  },
  {
   "cell_type": "markdown",
   "metadata": {},
   "source": [
    "To find some specific characters and some optional \n",
    "<br>\n",
    "like we have some name with different pattrens <br>\n",
    "Mr. Schafer <br>\n",
    "Mr Smith <br>\n",
    "Ms Davis <br>\n",
    "Mrs.Robinson <br>\n",
    "Mr.Mehroz<br>\n",
    "some have . sign and some does not have , so we can use ? sign which means 0 or one\n",
    "\n"
   ]
  },
  {
   "cell_type": "code",
   "execution_count": 178,
   "metadata": {},
   "outputs": [
    {
     "name": "stdout",
     "output_type": "stream",
     "text": [
      "<re.Match object; span=(153, 164), match='Mr. Schafer'>\n",
      "<re.Match object; span=(165, 173), match='Mr Smith'>\n",
      "<re.Match object; span=(174, 182), match='Ms Davis'>\n",
      "<re.Match object; span=(196, 206), match='Mr. Mehroz'>\n",
      "<re.Match object; span=(207, 212), match='Mr. T'>\n"
     ]
    }
   ],
   "source": [
    "pattren = re.compile(r'M(r|s|rs)\\.?\\s[A-Z]\\w* ' ) \n",
    "# * means that 0 or more\n",
    "# (r|s) means that we have both Mr Ms and Mrs so this is an optional\n",
    "# as in the names Mr is same but . sign is optionl so we use ? sign\n",
    "# then we have space \n",
    "# then the first alphabet has to be capital \n",
    "# then whole word \n",
    "#\n",
    "match =pattren.finditer(text)\n",
    "for m in match:\n",
    "    print(m)"
   ]
  },
  {
   "cell_type": "markdown",
   "metadata": {},
   "source": [
    "Email Validation Example"
   ]
  },
  {
   "cell_type": "code",
   "execution_count": 68,
   "metadata": {},
   "outputs": [
    {
     "name": "stdout",
     "output_type": "stream",
     "text": [
      "<re.Match object; span=(11, 45), match='Jawad Shafi @ cuilahore.edu.pk.com'>\n",
      "['Ja wad Sh af:i']\n"
     ]
    }
   ],
   "source": [
    "reg = r\"\\w+\\s+\\w+\\s+@\\s+\\D+.(com|edu|net).?(pk)?\"\n",
    "user_input = \"My name is Jawad Shafi @ cuilahore.edu.pk.com\"\n",
    "print(re.search(reg,user_input))\n",
    "text = \"My name is Ja wad Sh af:i\"\n",
    "regx = re.compile(r\"\\D{2}\\s+\\D{3}\\s+\\D{2}\\s+\\D{4}\")\n",
    "x = regx.findall(text)\n",
    "print(x)\n"
   ]
  },
  {
   "cell_type": "code",
   "execution_count": 245,
   "metadata": {},
   "outputs": [
    {
     "name": "stdout",
     "output_type": "stream",
     "text": [
      "https://www.google.com\n",
      "('google', '.com')\n",
      "http://care.com\n",
      "('care', '.com')\n",
      "https://www.pakwheels.com\n",
      "('pakwheels', '.com')\n",
      "http://youtube.com\n",
      "('youtube', '.com')\n",
      "https://www.nasa.gov\n",
      "('nasa', '.gov')\n",
      "[('google', '.com'), ('care', '.com'), ('pakwheels', '.com'), ('youtube', '.com'), ('nasa', '.gov')]\n"
     ]
    }
   ],
   "source": [
    "url= \"\"\" https://www.google.com\n",
    "http://care.com\n",
    "https://www.pakwheels.com\n",
    "http://youtube.com\n",
    "https://www.nasa.gov\"\"\"\n",
    "pat3 = re.compile(r\"https?://(www\\.)?(\\w+)(\\.\\w+)\")\n",
    "# here we have make groups which ()\n",
    "# 1st is www.\n",
    "# 2nd is main domain\n",
    "# 3rd is last doamin\n",
    "match =pat3.finditer(url)\n",
    "main_domain = []\n",
    "for m in match:\n",
    "    print(m.group(0)) # this will print the whole 3 groups\n",
    "    print(m.group(2,3)) #this will 1st  only www.\n",
    "    main_domain.append(m.group(2,3))\n",
    "print(main_domain)\n",
    "\n",
    "sub_urls = pat3.sub(r\"\\2\\2\",url)\n",
    "\n",
    "\n"
   ]
  },
  {
   "cell_type": "markdown",
   "metadata": {},
   "source": [
    "Practise for Quiz"
   ]
  },
  {
   "cell_type": "code",
   "execution_count": 12,
   "metadata": {},
   "outputs": [
    {
     "name": "stdout",
     "output_type": "stream",
     "text": [
      "None\n"
     ]
    }
   ],
   "source": [
    "st = \"alice@google.com, purple blah monkey bob@abc.com blah dishwasher\"\n",
    "find_other_than = re.compile(r\"(\n",
    "    ^purple)\")"
   ]
  }
 ],
 "metadata": {
  "kernelspec": {
   "display_name": "Python 3.9.12 ('base')",
   "language": "python",
   "name": "python3"
  },
  "language_info": {
   "codemirror_mode": {
    "name": "ipython",
    "version": 3
   },
   "file_extension": ".py",
   "mimetype": "text/x-python",
   "name": "python",
   "nbconvert_exporter": "python",
   "pygments_lexer": "ipython3",
   "version": "3.9.12"
  },
  "orig_nbformat": 4,
  "vscode": {
   "interpreter": {
    "hash": "f3a52463084db90f96d29dcfcfd9bf276dba3c521d76c4c38c835392b64a093b"
   }
  }
 },
 "nbformat": 4,
 "nbformat_minor": 2
}
